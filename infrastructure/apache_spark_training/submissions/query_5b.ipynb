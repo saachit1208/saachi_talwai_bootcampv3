{
 "cells": [
  {
   "cell_type": "code",
   "execution_count": null,
   "id": "498ccd84-770a-4924-94df-9181d300da98",
   "metadata": {},
   "outputs": [],
   "source": [
    "second_sort_df = finalDF.sortWithinPartitions( col(\"playlist_id\"))"
   ]
  }
 ],
 "metadata": {
  "kernelspec": {
   "display_name": "Python 3 (ipykernel)",
   "language": "python",
   "name": "python3"
  },
  "language_info": {
   "codemirror_mode": {
    "name": "ipython",
    "version": 3
   },
   "file_extension": ".py",
   "mimetype": "text/x-python",
   "name": "python",
   "nbconvert_exporter": "python",
   "pygments_lexer": "ipython3",
   "version": "3.9.18"
  }
 },
 "nbformat": 4,
 "nbformat_minor": 5
}
