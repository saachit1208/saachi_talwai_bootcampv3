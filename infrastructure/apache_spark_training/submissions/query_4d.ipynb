{
 "cells": [
  {
   "cell_type": "markdown",
   "id": "ccb58f75-5566-47b0-a105-65a9288bb7a6",
   "metadata": {},
   "source": [
    "#### Query 4d\n",
    "Which map do players receive the highest number of Killing Spree medals?"
   ]
  },
  {
   "cell_type": "code",
   "execution_count": null,
   "id": "acb32cc6-25f2-4b22-8ac2-1b6c622661bf",
   "metadata": {},
   "outputs": [],
   "source": [
    "# Assuming finalDF created previously\n",
    "# Calculating the sum of \"Killing Spree\" medals grouped by 'mapid' and 'map_name'\n",
    "result = finalDF.groupBy(\"mapid\", \"map_name\").agg(\n",
    "    sum(\n",
    "        when(\n",
    "            col(\"medal_name\") == \"Killing Spree\", col(\"count\")\n",
    "        ).otherwise(0)\n",
    "    ).alias(\"sumOfKillingSpree\")\n",
    ")\n",
    "\n",
    "# Find the maximum sum of \"Killing Spree\" medals\n",
    "maxSum = result.agg(max(col(\"sumOfKillingSpree\")).alias(\"maxSum\")).collect()[0][\"maxSum\"]\n",
    "\n",
    "# Filter the DataFrame to get all rows with the maximum sum, handling ties\n",
    "tiedRecordsForMax = result.filter(col(\"sumOfKillingSpree\") == maxSum)\n",
    "\n",
    "tiedRecordsForMax.show(truncate=False)"
   ]
  },
  {
   "cell_type": "raw",
   "id": "dc971084-34c0-4b05-9c97-6bd7c03cdcff",
   "metadata": {},
   "source": [
    "O/P\n",
    "+--------------------+--------------+-----------------+\n",
    "|               mapid|      map_name|sumOfKillingSpree|\n",
    "+--------------------+--------------+-----------------+\n",
    "|c7edbf0f-f206-11e...|Breakout Arena|             6738|\n",
    "+--------------------+--------------+-----------------+"
   ]
  }
 ],
 "metadata": {
  "kernelspec": {
   "display_name": "Python 3 (ipykernel)",
   "language": "python",
   "name": "python3"
  },
  "language_info": {
   "codemirror_mode": {
    "name": "ipython",
    "version": 3
   },
   "file_extension": ".py",
   "mimetype": "text/x-python",
   "name": "python",
   "nbconvert_exporter": "python",
   "pygments_lexer": "ipython3",
   "version": "3.9.18"
  }
 },
 "nbformat": 4,
 "nbformat_minor": 5
}
