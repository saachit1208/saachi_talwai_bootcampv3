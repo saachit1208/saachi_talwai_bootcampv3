{
 "cells": [
  {
   "cell_type": "code",
   "execution_count": null,
   "id": "f76ee050-5c9a-42e6-aeb7-8853f70f1c60",
   "metadata": {},
   "outputs": [],
   "source": [
    "# Assuming finalDF created previously\n",
    "# Calculate the count of plays grouped by 'mapid' and 'map_name'\n",
    "countPlaysMap = finalDF.groupBy(\"mapid\", \"map_name\") \\\n",
    "                     .agg(count(\"*\").alias(\"no_of_plays_map\"))\n",
    "\n",
    "# Find the maximum count of plays\n",
    "maxCountValueMap = countPlaysMap.agg({'no_of_plays_map': 'max'}).collect()[0][0]\n",
    "\n",
    "# Filter the DataFrame to get all records with the maximum count of plays\n",
    "maxCountMap = countPlaysMap.filter(col(\"no_of_plays_map\") == maxCountValueMap)\n",
    "\n",
    "# Show map with maximum count of plays\n",
    "maxCountMap.show(truncate=False)"
   ]
  },
  {
   "cell_type": "raw",
   "id": "c704e39c-64f2-4091-89f7-d43531a7adda",
   "metadata": {},
   "source": [
    "O/P\n",
    "+------------------------------------+--------------+---------------+\n",
    "|mapid                               |map_name      |no_of_plays_map|\n",
    "+------------------------------------+--------------+---------------+\n",
    "|c7edbf0f-f206-11e4-aa52-24be05e24f7e|Breakout Arena|186118         |\n",
    "+------------------------------------+--------------+---------------+"
   ]
  }
 ],
 "metadata": {
  "kernelspec": {
   "display_name": "Python 3 (ipykernel)",
   "language": "python",
   "name": "python3"
  },
  "language_info": {
   "codemirror_mode": {
    "name": "ipython",
    "version": 3
   },
   "file_extension": ".py",
   "mimetype": "text/x-python",
   "name": "python",
   "nbconvert_exporter": "python",
   "pygments_lexer": "ipython3",
   "version": "3.9.18"
  }
 },
 "nbformat": 4,
 "nbformat_minor": 5
}
