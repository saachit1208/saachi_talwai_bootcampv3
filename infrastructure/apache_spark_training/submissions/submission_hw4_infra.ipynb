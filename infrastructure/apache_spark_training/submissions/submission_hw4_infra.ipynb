{
 "cells": [
  {
   "cell_type": "code",
   "execution_count": 1,
   "id": "5aca63b8-bb0e-47a2-bdaf-da4d9b50cd08",
   "metadata": {},
   "outputs": [
    {
     "name": "stderr",
     "output_type": "stream",
     "text": [
      "23/12/22 21:06:56 WARN SparkSession: Using an existing Spark session; only runtime SQL configurations will take effect.\n"
     ]
    },
    {
     "data": {
      "text/html": [
       "\n",
       "            <div>\n",
       "                <p><b>SparkSession - in-memory</b></p>\n",
       "                \n",
       "        <div>\n",
       "            <p><b>SparkContext</b></p>\n",
       "\n",
       "            <p><a href=\"http://f4fbf45b4002:4040\">Spark UI</a></p>\n",
       "\n",
       "            <dl>\n",
       "              <dt>Version</dt>\n",
       "                <dd><code>v3.5.0</code></dd>\n",
       "              <dt>Master</dt>\n",
       "                <dd><code>local[*]</code></dd>\n",
       "              <dt>AppName</dt>\n",
       "                <dd><code>PySparkShell</code></dd>\n",
       "            </dl>\n",
       "        </div>\n",
       "        \n",
       "            </div>\n",
       "        "
      ],
      "text/plain": [
       "<pyspark.sql.session.SparkSession at 0xffff78a0e280>"
      ]
     },
     "execution_count": 1,
     "metadata": {},
     "output_type": "execute_result"
    }
   ],
   "source": [
    "from pyspark.sql.functions import year, expr, broadcast, split, lit, col, split, avg, sum, count, when, round, max\n",
    "spark = SparkSession.builder.appName(\"Jupyter\").getOrCreate()\n",
    "spark\n"
   ]
  },
  {
   "cell_type": "markdown",
   "id": "fe8769d7-58f6-416f-a068-d3d5a63174fd",
   "metadata": {},
   "source": [
    "#### Query 1 - disable the default behavior of broadcast joins"
   ]
  },
  {
   "cell_type": "code",
   "execution_count": 28,
   "id": "e19f3896-a712-4fd7-9286-1d9c43654de4",
   "metadata": {},
   "outputs": [],
   "source": [
    "spark.conf.set(\"spark.sql.autoBroadcastJoinThreshold\", \"-1\")"
   ]
  },
  {
   "cell_type": "markdown",
   "id": "02b8b794-5537-44d0-919a-b8116ae8d2b8",
   "metadata": {},
   "source": [
    "### Reading Data from CSV"
   ]
  },
  {
   "cell_type": "code",
   "execution_count": 30,
   "id": "3bf1a18e-91b3-4623-b1e7-e725e84b6fd6",
   "metadata": {},
   "outputs": [
    {
     "name": "stderr",
     "output_type": "stream",
     "text": [
      "                                                                                \r"
     ]
    }
   ],
   "source": [
    "matchesBucketed = spark.read.option(\"header\", \"true\") \\\n",
    "                        .option(\"inferSchema\", \"true\") \\\n",
    "                        .csv(\"/home/iceberg/data/matches.csv\").withColumn(\"completion_year\", year(expr(\"DATE_TRUNC('year', completion_date)\")))\n",
    "matchDetailsBucketed =  spark.read.option(\"header\", \"true\") \\\n",
    "                        .option(\"inferSchema\", \"true\") \\\n",
    "                        .csv(\"/home/iceberg/data/match_details.csv\")\n",
    "\n",
    "medalsMatchesPlayersBucketed = spark.read.option(\"header\", \"true\") \\\n",
    "                        .option(\"inferSchema\", \"true\") \\\n",
    "                        .csv(\"/home/iceberg/data/medals_matches_players.csv\")\n",
    "maps = spark.read.option(\"header\", \"true\") \\\n",
    "                        .option(\"inferSchema\", \"true\") \\\n",
    "                        .csv(\"/home/iceberg/data/maps.csv\")\n",
    "medals = spark.read.option(\"header\", \"true\") \\\n",
    "                        .option(\"inferSchema\", \"true\") \\\n",
    "                        .csv(\"/home/iceberg/data/medals.csv\")"
   ]
  },
  {
   "cell_type": "markdown",
   "id": "c3d78178-b027-4a64-b3d2-97a4e2a589bb",
   "metadata": {},
   "source": [
    "### Creating bucketed Tables\n",
    "##### Partitioned by completion year instead of completion date for matches as that help me solve the Java OOM error."
   ]
  },
  {
   "cell_type": "code",
   "execution_count": 31,
   "id": "4c8ae1bf-1dc2-44ab-a234-87d43502e832",
   "metadata": {},
   "outputs": [
    {
     "data": {
      "text/html": [
       "<table>\n",
       "    <thead>\n",
       "        <tr>\n",
       "        </tr>\n",
       "    </thead>\n",
       "    <tbody>\n",
       "    </tbody>\n",
       "</table>"
      ],
      "text/plain": [
       "++\n",
       "||\n",
       "++\n",
       "++"
      ]
     },
     "execution_count": 31,
     "metadata": {},
     "output_type": "execute_result"
    }
   ],
   "source": [
    "%%sql\n",
    "CREATE DATABASE IF NOT EXISTS bootcamp"
   ]
  },
  {
   "cell_type": "code",
   "execution_count": 32,
   "id": "ea4143cf-e398-4085-b382-6fdb50300188",
   "metadata": {},
   "outputs": [
    {
     "data": {
      "text/plain": [
       "DataFrame[]"
      ]
     },
     "execution_count": 32,
     "metadata": {},
     "output_type": "execute_result"
    }
   ],
   "source": [
    "\n",
    "bucketedDDL = \"\"\"\n",
    " CREATE TABLE IF NOT EXISTS bootcamp.matches_bucketed (\n",
    "    match_id STRING,\n",
    "     is_team_game BOOLEAN,\n",
    "     playlist_id STRING,\n",
    "     mapid STRING,\n",
    "     completion_date TIMESTAMP,\n",
    "     completion_year INTEGER\n",
    " )\n",
    " USING iceberg\n",
    " PARTITIONED BY (completion_year, bucket(16, match_id));\n",
    " \"\"\"\n",
    "spark.sql(bucketedDDL)\n",
    "\n",
    "bucketedDetailsDDL = \"\"\"\n",
    " CREATE TABLE IF NOT EXISTS bootcamp.match_details_bucketed (\n",
    "     match_id STRING,\n",
    "     player_gamertag STRING,\n",
    "     player_total_kills INTEGER,\n",
    "     player_total_deaths INTEGER\n",
    " )\n",
    " USING iceberg\n",
    " PARTITIONED BY (bucket(16, match_id));\n",
    " \"\"\"\n",
    "spark.sql(bucketedDetailsDDL)\n",
    "\n",
    "bucketedMedalMatchesDDL = \"\"\"\n",
    " CREATE TABLE IF NOT EXISTS bootcamp.medals_matches_players_bucketed (\n",
    "     match_id STRING,\n",
    "     player_gamertag STRING,\n",
    "     medal_id BIGINT,\n",
    "     count INTEGER\n",
    " )\n",
    " USING iceberg\n",
    " PARTITIONED BY (bucket(16, match_id));\n",
    " \"\"\"\n",
    "spark.sql(bucketedMedalMatchesDDL)"
   ]
  },
  {
   "cell_type": "markdown",
   "id": "66eeeab2-c9a3-4b4a-a733-cf9669526708",
   "metadata": {},
   "source": [
    "#### Writing data from dataframes to tables"
   ]
  },
  {
   "cell_type": "code",
   "execution_count": 35,
   "id": "aef5130d-203b-4e25-adcc-146410dbb8fe",
   "metadata": {},
   "outputs": [],
   "source": [
    "matchesBucketed.select(\n",
    "     col(\"match_id\"), col(\"is_team_game\"), col(\"playlist_id\"), col(\"mapid\"), col(\"completion_date\").cast(\"timestamp\"), col(\"completion_year\")\n",
    "     ) \\\n",
    "     .write.mode(\"overwrite\")  \\\n",
    "     .partitionBy(\"completion_year\") \\\n",
    "     .bucketBy(16, \"match_id\").saveAsTable(\"bootcamp.matches_bucketed\")\n",
    "\n",
    "matchDetailsBucketed.select(\n",
    "     col(\"match_id\"), col(\"player_gamertag\"), col(\"player_total_kills\"), col(\"player_total_deaths\")\n",
    "     ) \\\n",
    "     .write.mode(\"overwrite\")  \\\n",
    "     .bucketBy(16, \"match_id\").saveAsTable(\"bootcamp.match_details_bucketed\")\n",
    "medalsMatchesPlayersBucketed.select(\n",
    "     col(\"match_id\"), col(\"player_gamertag\"), col(\"medal_id\"), col(\"count\")\n",
    "     ) \\\n",
    "     .write.mode(\"overwrite\")  \\\n",
    "     .bucketBy(16, \"match_id\").saveAsTable(\"bootcamp.medals_matches_players_bucketed\")\n",
    "\n"
   ]
  },
  {
   "cell_type": "markdown",
   "id": "ecb45dd4-7a42-4718-877c-f5d7b8e27b2a",
   "metadata": {},
   "source": [
    "#### Reading data from tables"
   ]
  },
  {
   "cell_type": "code",
   "execution_count": 36,
   "id": "a271b166-8cb9-42dd-89a7-bfe9ddee3442",
   "metadata": {},
   "outputs": [
    {
     "data": {
      "text/plain": [
       "DataFrame[]"
      ]
     },
     "execution_count": 36,
     "metadata": {},
     "output_type": "execute_result"
    }
   ],
   "source": [
    "spark.sql(\"USE bootcamp\")"
   ]
  },
  {
   "cell_type": "code",
   "execution_count": 37,
   "id": "c6d505e9-d79b-4bd3-bdd8-b0b0cdb0e6fa",
   "metadata": {},
   "outputs": [],
   "source": [
    "matchesBucketedDF = spark.read.table(\"matches_bucketed\")\n",
    "matchDetailsBucketedDF = spark.read.table(\"match_details_bucketed\")\n",
    "medalsMatchesPlayersBucketedDF = spark.read.table(\"medals_matches_players_bucketed\")"
   ]
  },
  {
   "cell_type": "markdown",
   "id": "322162b2-c85e-4c9c-8d31-c9b501b743f7",
   "metadata": {},
   "source": [
    "#### Query 2: join the medals and maps tables with an explicitly specified a broadcast join \n",
    "#### Query 3: join the match_details, matches and medal_matches_players using a bucket join on match_id with 16 buckets"
   ]
  },
  {
   "cell_type": "markdown",
   "id": "946f324a-8b8d-4499-b112-5100d5fc439c",
   "metadata": {},
   "source": [
    "#### Bucket Join"
   ]
  },
  {
   "cell_type": "code",
   "execution_count": 38,
   "id": "785da414-a4ef-4409-adb7-6292e151f0c5",
   "metadata": {},
   "outputs": [],
   "source": [
    "bucketedJoinResults = matchDetailsBucketedDF.alias(\"mdb\") \\\n",
    "    .join(matchesBucketedDF.alias(\"mb\"), col(\"mb.match_id\") == col(\"mdb.match_id\")) \\\n",
    "    .join(medalsMatchesPlayersBucketedDF.alias(\"mmb\"), \n",
    "          (col(\"mb.match_id\") == col(\"mmb.match_id\")) & \n",
    "          (col(\"mmb.player_gamertag\") == col(\"mdb.player_gamertag\"))) \\\n",
    "    .select(\n",
    "        col(\"mb.*\"),\n",
    "        col(\"mdb.player_total_deaths\"),\n",
    "        col(\"mdb.player_total_kills\"),\n",
    "        col(\"mdb.player_gamertag\"),\n",
    "        col(\"mmb.count\"),\n",
    "        col(\"mmb.medal_id\")\n",
    "    )\n"
   ]
  },
  {
   "cell_type": "code",
   "execution_count": 39,
   "id": "126db82c-b293-4103-877e-84e4e4580053",
   "metadata": {},
   "outputs": [
    {
     "name": "stderr",
     "output_type": "stream",
     "text": [
      "                                                                                \r"
     ]
    },
    {
     "data": {
      "text/plain": [
       "[Row(match_id='0001a1c4-83dc-4f40-a97e-7910a765c96a', is_team_game=True, playlist_id='780cc101-005c-4fca-8ce7-6f36d7156ffe', mapid='c7805740-f206-11e4-982c-24be05e24f7e', completion_date=datetime.datetime(2016, 1, 6, 0, 0), completion_year=2016, player_total_deaths=28, player_total_kills=23, player_gamertag='ILLICIT 117', count=4, medal_id=3565443938),\n",
       " Row(match_id='0001a1c4-83dc-4f40-a97e-7910a765c96a', is_team_game=True, playlist_id='780cc101-005c-4fca-8ce7-6f36d7156ffe', mapid='c7805740-f206-11e4-982c-24be05e24f7e', completion_date=datetime.datetime(2016, 1, 6, 0, 0), completion_year=2016, player_total_deaths=28, player_total_kills=23, player_gamertag='ILLICIT 117', count=8, medal_id=3261908037),\n",
       " Row(match_id='0001a1c4-83dc-4f40-a97e-7910a765c96a', is_team_game=True, playlist_id='780cc101-005c-4fca-8ce7-6f36d7156ffe', mapid='c7805740-f206-11e4-982c-24be05e24f7e', completion_date=datetime.datetime(2016, 1, 6, 0, 0), completion_year=2016, player_total_deaths=28, player_total_kills=23, player_gamertag='ILLICIT 117', count=1, medal_id=824733727),\n",
       " Row(match_id='0001a1c4-83dc-4f40-a97e-7910a765c96a', is_team_game=True, playlist_id='780cc101-005c-4fca-8ce7-6f36d7156ffe', mapid='c7805740-f206-11e4-982c-24be05e24f7e', completion_date=datetime.datetime(2016, 1, 6, 0, 0), completion_year=2016, player_total_deaths=28, player_total_kills=23, player_gamertag='ILLICIT 117', count=2, medal_id=298813630),\n",
       " Row(match_id='0001a1c4-83dc-4f40-a97e-7910a765c96a', is_team_game=True, playlist_id='780cc101-005c-4fca-8ce7-6f36d7156ffe', mapid='c7805740-f206-11e4-982c-24be05e24f7e', completion_date=datetime.datetime(2016, 1, 6, 0, 0), completion_year=2016, player_total_deaths=28, player_total_kills=23, player_gamertag='ILLICIT 117', count=3, medal_id=1351381581)]"
      ]
     },
     "execution_count": 39,
     "metadata": {},
     "output_type": "execute_result"
    }
   ],
   "source": [
    "bucketedJoinResults.take(5)"
   ]
  },
  {
   "cell_type": "markdown",
   "id": "b3697a4e-af8a-412c-aabd-3e3ab61a4d92",
   "metadata": {},
   "source": [
    "#### Explicit Broadcast Join"
   ]
  },
  {
   "cell_type": "code",
   "execution_count": 40,
   "id": "7d6014cd-556d-41f8-a211-949670d3c1a1",
   "metadata": {},
   "outputs": [],
   "source": [
    "explicitBroadcast = bucketedJoinResults.alias(\"bk\") \\\n",
    "    .join(broadcast(medals).alias(\"md\"), col(\"bk.medal_id\") == col(\"md.medal_id\")) \\\n",
    "    .join(broadcast(maps).alias(\"mp\"), col(\"bk.mapid\") == col(\"mp.mapid\")) \\\n",
    "    .select(\n",
    "        col(\"bk.*\"),\n",
    "        col(\"md.name\").alias(\"medal_name\"),\n",
    "        col(\"md.description\").alias(\"medal_description\"),\n",
    "        col(\"mp.name\").alias(\"map_name\"),\n",
    "        col(\"mp.description\").alias(\"map_description\")\n",
    "    )\n"
   ]
  },
  {
   "cell_type": "markdown",
   "id": "8b390c9c-4821-460c-afd4-f19756657bf6",
   "metadata": {},
   "source": [
    "#### Dropping Duplicates"
   ]
  },
  {
   "cell_type": "code",
   "execution_count": 41,
   "id": "9bbc37ff-8f49-44d7-8ed6-692de41cdfb8",
   "metadata": {},
   "outputs": [],
   "source": [
    "finalDF = explicitBroadcast.drop_duplicates()"
   ]
  },
  {
   "cell_type": "code",
   "execution_count": 42,
   "id": "f72ec534-a417-49dc-b939-37f980e36b2b",
   "metadata": {},
   "outputs": [
    {
     "name": "stderr",
     "output_type": "stream",
     "text": [
      "                                                                                \r"
     ]
    },
    {
     "data": {
      "text/plain": [
       "[Row(match_id='0001a1c4-83dc-4f40-a97e-7910a765c96a', is_team_game=True, playlist_id='780cc101-005c-4fca-8ce7-6f36d7156ffe', mapid='c7805740-f206-11e4-982c-24be05e24f7e', completion_date=datetime.datetime(2016, 1, 6, 0, 0), completion_year=2016, player_total_deaths=28, player_total_kills=23, player_gamertag='ILLICIT 117', count=4, medal_id=3565443938, medal_name='Stronghold Captured', medal_description='Capture a Stronghold.', map_name='Glacier', map_description=\"Each of Halo's microclimates can be controlled with exacting precision.\"),\n",
       " Row(match_id='0001a1c4-83dc-4f40-a97e-7910a765c96a', is_team_game=True, playlist_id='780cc101-005c-4fca-8ce7-6f36d7156ffe', mapid='c7805740-f206-11e4-982c-24be05e24f7e', completion_date=datetime.datetime(2016, 1, 6, 0, 0), completion_year=2016, player_total_deaths=28, player_total_kills=23, player_gamertag='ILLICIT 117', count=8, medal_id=3261908037, medal_name='Headshot', medal_description='Kill an opponent by shooting them in the head.', map_name='Glacier', map_description=\"Each of Halo's microclimates can be controlled with exacting precision.\"),\n",
       " Row(match_id='0001a1c4-83dc-4f40-a97e-7910a765c96a', is_team_game=True, playlist_id='780cc101-005c-4fca-8ce7-6f36d7156ffe', mapid='c7805740-f206-11e4-982c-24be05e24f7e', completion_date=datetime.datetime(2016, 1, 6, 0, 0), completion_year=2016, player_total_deaths=28, player_total_kills=23, player_gamertag='ILLICIT 117', count=1, medal_id=824733727, medal_name='Distraction', medal_description='Distract an opponent who is then killed.', map_name='Glacier', map_description=\"Each of Halo's microclimates can be controlled with exacting precision.\"),\n",
       " Row(match_id='0001a1c4-83dc-4f40-a97e-7910a765c96a', is_team_game=True, playlist_id='780cc101-005c-4fca-8ce7-6f36d7156ffe', mapid='c7805740-f206-11e4-982c-24be05e24f7e', completion_date=datetime.datetime(2016, 1, 6, 0, 0), completion_year=2016, player_total_deaths=28, player_total_kills=23, player_gamertag='ILLICIT 117', count=2, medal_id=298813630, medal_name='Spartan Charge', medal_description='Kill an enemy with Spartan Charge.', map_name='Glacier', map_description=\"Each of Halo's microclimates can be controlled with exacting precision.\"),\n",
       " Row(match_id='0001a1c4-83dc-4f40-a97e-7910a765c96a', is_team_game=True, playlist_id='780cc101-005c-4fca-8ce7-6f36d7156ffe', mapid='c7805740-f206-11e4-982c-24be05e24f7e', completion_date=datetime.datetime(2016, 1, 6, 0, 0), completion_year=2016, player_total_deaths=28, player_total_kills=23, player_gamertag='ILLICIT 117', count=3, medal_id=1351381581, medal_name='Stronghold Defense', medal_description='Kill an enemy that is actively capturing a Stronghold.', map_name='Glacier', map_description=\"Each of Halo's microclimates can be controlled with exacting precision.\")]"
      ]
     },
     "execution_count": 42,
     "metadata": {},
     "output_type": "execute_result"
    }
   ],
   "source": [
    "finalDF.take(5)"
   ]
  },
  {
   "cell_type": "code",
   "execution_count": null,
   "id": "c4615df5-f375-4cef-9115-937def44cac5",
   "metadata": {},
   "outputs": [],
   "source": []
  },
  {
   "cell_type": "markdown",
   "id": "0810b33c-f791-4736-a5f3-164dc9eef413",
   "metadata": {},
   "source": [
    "#### Query 4a \n",
    "which player has the highest average kills per game? "
   ]
  },
  {
   "cell_type": "code",
   "execution_count": 43,
   "id": "1372bfc2-723a-405b-84d9-a9221755b605",
   "metadata": {},
   "outputs": [
    {
     "name": "stderr",
     "output_type": "stream",
     "text": [
      "23/12/22 21:50:05 WARN RowBasedKeyValueBatch: Calling spill() on RowBasedKeyValueBatch. Will not spill but return 0.\n",
      "23/12/22 21:50:05 WARN RowBasedKeyValueBatch: Calling spill() on RowBasedKeyValueBatch. Will not spill but return 0.\n",
      "23/12/22 21:50:05 WARN RowBasedKeyValueBatch: Calling spill() on RowBasedKeyValueBatch. Will not spill but return 0.\n",
      "23/12/22 21:50:05 WARN RowBasedKeyValueBatch: Calling spill() on RowBasedKeyValueBatch. Will not spill but return 0.\n",
      "23/12/22 21:50:05 WARN RowBasedKeyValueBatch: Calling spill() on RowBasedKeyValueBatch. Will not spill but return 0.\n",
      "23/12/22 21:50:05 WARN RowBasedKeyValueBatch: Calling spill() on RowBasedKeyValueBatch. Will not spill but return 0.\n",
      "23/12/22 21:50:05 WARN RowBasedKeyValueBatch: Calling spill() on RowBasedKeyValueBatch. Will not spill but return 0.\n",
      "23/12/22 21:50:05 WARN RowBasedKeyValueBatch: Calling spill() on RowBasedKeyValueBatch. Will not spill but return 0.\n",
      "23/12/22 21:50:05 WARN RowBasedKeyValueBatch: Calling spill() on RowBasedKeyValueBatch. Will not spill but return 0.\n",
      "23/12/22 21:50:05 WARN RowBasedKeyValueBatch: Calling spill() on RowBasedKeyValueBatch. Will not spill but return 0.\n",
      "23/12/22 21:50:05 WARN RowBasedKeyValueBatch: Calling spill() on RowBasedKeyValueBatch. Will not spill but return 0.\n",
      "23/12/22 21:50:05 WARN RowBasedKeyValueBatch: Calling spill() on RowBasedKeyValueBatch. Will not spill but return 0.\n",
      "23/12/22 21:50:05 WARN RowBasedKeyValueBatch: Calling spill() on RowBasedKeyValueBatch. Will not spill but return 0.\n",
      "23/12/22 21:50:05 WARN RowBasedKeyValueBatch: Calling spill() on RowBasedKeyValueBatch. Will not spill but return 0.\n",
      "23/12/22 21:50:05 WARN RowBasedKeyValueBatch: Calling spill() on RowBasedKeyValueBatch. Will not spill but return 0.\n",
      "23/12/22 21:50:05 WARN RowBasedKeyValueBatch: Calling spill() on RowBasedKeyValueBatch. Will not spill but return 0.\n",
      "23/12/22 21:50:05 WARN RowBasedKeyValueBatch: Calling spill() on RowBasedKeyValueBatch. Will not spill but return 0.\n",
      "23/12/22 21:50:05 WARN RowBasedKeyValueBatch: Calling spill() on RowBasedKeyValueBatch. Will not spill but return 0.\n",
      "23/12/22 21:50:05 WARN RowBasedKeyValueBatch: Calling spill() on RowBasedKeyValueBatch. Will not spill but return 0.\n",
      "23/12/22 21:50:05 WARN RowBasedKeyValueBatch: Calling spill() on RowBasedKeyValueBatch. Will not spill but return 0.\n",
      "23/12/22 21:50:05 WARN RowBasedKeyValueBatch: Calling spill() on RowBasedKeyValueBatch. Will not spill but return 0.\n",
      "23/12/22 21:50:05 WARN RowBasedKeyValueBatch: Calling spill() on RowBasedKeyValueBatch. Will not spill but return 0.\n",
      "23/12/22 21:50:05 WARN RowBasedKeyValueBatch: Calling spill() on RowBasedKeyValueBatch. Will not spill but return 0.\n",
      "23/12/22 21:50:05 WARN RowBasedKeyValueBatch: Calling spill() on RowBasedKeyValueBatch. Will not spill but return 0.\n",
      "23/12/22 21:50:05 WARN RowBasedKeyValueBatch: Calling spill() on RowBasedKeyValueBatch. Will not spill but return 0.\n",
      "23/12/22 21:50:05 WARN RowBasedKeyValueBatch: Calling spill() on RowBasedKeyValueBatch. Will not spill but return 0.\n",
      "23/12/22 21:50:05 WARN RowBasedKeyValueBatch: Calling spill() on RowBasedKeyValueBatch. Will not spill but return 0.\n",
      "23/12/22 21:50:05 WARN RowBasedKeyValueBatch: Calling spill() on RowBasedKeyValueBatch. Will not spill but return 0.\n",
      "23/12/22 21:50:05 WARN RowBasedKeyValueBatch: Calling spill() on RowBasedKeyValueBatch. Will not spill but return 0.\n",
      "23/12/22 21:50:05 WARN RowBasedKeyValueBatch: Calling spill() on RowBasedKeyValueBatch. Will not spill but return 0.\n",
      "23/12/22 21:50:05 WARN RowBasedKeyValueBatch: Calling spill() on RowBasedKeyValueBatch. Will not spill but return 0.\n",
      "23/12/22 21:50:05 WARN RowBasedKeyValueBatch: Calling spill() on RowBasedKeyValueBatch. Will not spill but return 0.\n",
      "23/12/22 21:50:05 WARN RowBasedKeyValueBatch: Calling spill() on RowBasedKeyValueBatch. Will not spill but return 0.\n",
      "23/12/22 21:50:05 WARN RowBasedKeyValueBatch: Calling spill() on RowBasedKeyValueBatch. Will not spill but return 0.\n",
      "23/12/22 21:50:05 WARN RowBasedKeyValueBatch: Calling spill() on RowBasedKeyValueBatch. Will not spill but return 0.\n",
      "23/12/22 21:50:05 WARN RowBasedKeyValueBatch: Calling spill() on RowBasedKeyValueBatch. Will not spill but return 0.\n",
      "23/12/22 21:50:05 WARN RowBasedKeyValueBatch: Calling spill() on RowBasedKeyValueBatch. Will not spill but return 0.\n",
      "23/12/22 21:50:05 WARN RowBasedKeyValueBatch: Calling spill() on RowBasedKeyValueBatch. Will not spill but return 0.\n",
      "23/12/22 21:50:05 WARN RowBasedKeyValueBatch: Calling spill() on RowBasedKeyValueBatch. Will not spill but return 0.\n",
      "23/12/22 21:50:05 WARN RowBasedKeyValueBatch: Calling spill() on RowBasedKeyValueBatch. Will not spill but return 0.\n",
      "23/12/22 21:50:05 WARN RowBasedKeyValueBatch: Calling spill() on RowBasedKeyValueBatch. Will not spill but return 0.\n",
      "23/12/22 21:50:05 WARN RowBasedKeyValueBatch: Calling spill() on RowBasedKeyValueBatch. Will not spill but return 0.\n",
      "23/12/22 21:50:05 WARN RowBasedKeyValueBatch: Calling spill() on RowBasedKeyValueBatch. Will not spill but return 0.\n",
      "23/12/22 21:50:05 WARN RowBasedKeyValueBatch: Calling spill() on RowBasedKeyValueBatch. Will not spill but return 0.\n",
      "23/12/22 21:50:05 WARN RowBasedKeyValueBatch: Calling spill() on RowBasedKeyValueBatch. Will not spill but return 0.\n",
      "23/12/22 21:50:06 WARN RowBasedKeyValueBatch: Calling spill() on RowBasedKeyValueBatch. Will not spill but return 0.\n",
      "23/12/22 21:50:06 WARN RowBasedKeyValueBatch: Calling spill() on RowBasedKeyValueBatch. Will not spill but return 0.\n",
      "23/12/22 21:50:06 WARN RowBasedKeyValueBatch: Calling spill() on RowBasedKeyValueBatch. Will not spill but return 0.\n",
      "23/12/22 21:50:06 WARN RowBasedKeyValueBatch: Calling spill() on RowBasedKeyValueBatch. Will not spill but return 0.\n",
      "23/12/22 21:50:06 WARN RowBasedKeyValueBatch: Calling spill() on RowBasedKeyValueBatch. Will not spill but return 0.\n",
      "23/12/22 21:50:06 WARN RowBasedKeyValueBatch: Calling spill() on RowBasedKeyValueBatch. Will not spill but return 0.\n",
      "23/12/22 21:50:10 WARN RowBasedKeyValueBatch: Calling spill() on RowBasedKeyValueBatch. Will not spill but return 0.\n",
      "23/12/22 21:50:10 WARN RowBasedKeyValueBatch: Calling spill() on RowBasedKeyValueBatch. Will not spill but return 0.\n",
      "23/12/22 21:50:10 WARN RowBasedKeyValueBatch: Calling spill() on RowBasedKeyValueBatch. Will not spill but return 0.\n",
      "23/12/22 21:50:10 WARN RowBasedKeyValueBatch: Calling spill() on RowBasedKeyValueBatch. Will not spill but return 0.\n",
      "23/12/22 21:50:10 WARN RowBasedKeyValueBatch: Calling spill() on RowBasedKeyValueBatch. Will not spill but return 0.\n",
      "23/12/22 21:50:10 WARN RowBasedKeyValueBatch: Calling spill() on RowBasedKeyValueBatch. Will not spill but return 0.\n",
      "23/12/22 21:50:10 WARN RowBasedKeyValueBatch: Calling spill() on RowBasedKeyValueBatch. Will not spill but return 0.\n",
      "23/12/22 21:50:10 WARN RowBasedKeyValueBatch: Calling spill() on RowBasedKeyValueBatch. Will not spill but return 0.\n",
      "23/12/22 21:50:10 WARN RowBasedKeyValueBatch: Calling spill() on RowBasedKeyValueBatch. Will not spill but return 0.\n",
      "23/12/22 21:50:10 WARN RowBasedKeyValueBatch: Calling spill() on RowBasedKeyValueBatch. Will not spill but return 0.\n",
      "23/12/22 21:50:10 WARN RowBasedKeyValueBatch: Calling spill() on RowBasedKeyValueBatch. Will not spill but return 0.\n",
      "23/12/22 21:50:10 WARN RowBasedKeyValueBatch: Calling spill() on RowBasedKeyValueBatch. Will not spill but return 0.\n",
      "23/12/22 21:50:10 WARN RowBasedKeyValueBatch: Calling spill() on RowBasedKeyValueBatch. Will not spill but return 0.\n",
      "23/12/22 21:50:10 WARN RowBasedKeyValueBatch: Calling spill() on RowBasedKeyValueBatch. Will not spill but return 0.\n",
      "23/12/22 21:50:10 WARN RowBasedKeyValueBatch: Calling spill() on RowBasedKeyValueBatch. Will not spill but return 0.\n",
      "23/12/22 21:50:10 WARN RowBasedKeyValueBatch: Calling spill() on RowBasedKeyValueBatch. Will not spill but return 0.\n",
      "23/12/22 21:50:10 WARN RowBasedKeyValueBatch: Calling spill() on RowBasedKeyValueBatch. Will not spill but return 0.\n",
      "23/12/22 21:50:10 WARN RowBasedKeyValueBatch: Calling spill() on RowBasedKeyValueBatch. Will not spill but return 0.\n",
      "23/12/22 21:50:10 WARN RowBasedKeyValueBatch: Calling spill() on RowBasedKeyValueBatch. Will not spill but return 0.\n",
      "23/12/22 21:50:10 WARN RowBasedKeyValueBatch: Calling spill() on RowBasedKeyValueBatch. Will not spill but return 0.\n",
      "23/12/22 21:50:10 WARN RowBasedKeyValueBatch: Calling spill() on RowBasedKeyValueBatch. Will not spill but return 0.\n",
      "23/12/22 21:50:10 WARN RowBasedKeyValueBatch: Calling spill() on RowBasedKeyValueBatch. Will not spill but return 0.\n",
      "23/12/22 21:50:10 WARN RowBasedKeyValueBatch: Calling spill() on RowBasedKeyValueBatch. Will not spill but return 0.\n",
      "23/12/22 21:50:10 WARN RowBasedKeyValueBatch: Calling spill() on RowBasedKeyValueBatch. Will not spill but return 0.\n",
      "23/12/22 21:50:10 WARN RowBasedKeyValueBatch: Calling spill() on RowBasedKeyValueBatch. Will not spill but return 0.\n",
      "23/12/22 21:50:10 WARN RowBasedKeyValueBatch: Calling spill() on RowBasedKeyValueBatch. Will not spill but return 0.\n",
      "23/12/22 21:50:10 WARN RowBasedKeyValueBatch: Calling spill() on RowBasedKeyValueBatch. Will not spill but return 0.\n",
      "23/12/22 21:50:10 WARN RowBasedKeyValueBatch: Calling spill() on RowBasedKeyValueBatch. Will not spill but return 0.\n",
      "23/12/22 21:50:10 WARN RowBasedKeyValueBatch: Calling spill() on RowBasedKeyValueBatch. Will not spill but return 0.\n",
      "23/12/22 21:50:10 WARN RowBasedKeyValueBatch: Calling spill() on RowBasedKeyValueBatch. Will not spill but return 0.\n",
      "23/12/22 21:50:11 WARN RowBasedKeyValueBatch: Calling spill() on RowBasedKeyValueBatch. Will not spill but return 0.\n",
      "23/12/22 21:50:11 WARN RowBasedKeyValueBatch: Calling spill() on RowBasedKeyValueBatch. Will not spill but return 0.\n",
      "23/12/22 21:50:11 WARN RowBasedKeyValueBatch: Calling spill() on RowBasedKeyValueBatch. Will not spill but return 0.\n",
      "23/12/22 21:50:11 WARN RowBasedKeyValueBatch: Calling spill() on RowBasedKeyValueBatch. Will not spill but return 0.\n",
      "23/12/22 21:50:11 WARN RowBasedKeyValueBatch: Calling spill() on RowBasedKeyValueBatch. Will not spill but return 0.\n",
      "23/12/22 21:50:11 WARN RowBasedKeyValueBatch: Calling spill() on RowBasedKeyValueBatch. Will not spill but return 0.\n",
      "23/12/22 21:50:11 WARN RowBasedKeyValueBatch: Calling spill() on RowBasedKeyValueBatch. Will not spill but return 0.\n",
      "23/12/22 21:50:11 WARN RowBasedKeyValueBatch: Calling spill() on RowBasedKeyValueBatch. Will not spill but return 0.\n",
      "23/12/22 21:50:11 WARN RowBasedKeyValueBatch: Calling spill() on RowBasedKeyValueBatch. Will not spill but return 0.\n",
      "23/12/22 21:50:11 WARN RowBasedKeyValueBatch: Calling spill() on RowBasedKeyValueBatch. Will not spill but return 0.\n",
      "23/12/22 21:50:11 WARN RowBasedKeyValueBatch: Calling spill() on RowBasedKeyValueBatch. Will not spill but return 0.\n",
      "23/12/22 21:50:11 WARN RowBasedKeyValueBatch: Calling spill() on RowBasedKeyValueBatch. Will not spill but return 0.\n",
      "23/12/22 21:50:11 WARN RowBasedKeyValueBatch: Calling spill() on RowBasedKeyValueBatch. Will not spill but return 0.\n",
      "23/12/22 21:50:11 WARN RowBasedKeyValueBatch: Calling spill() on RowBasedKeyValueBatch. Will not spill but return 0.\n",
      "23/12/22 21:50:11 WARN RowBasedKeyValueBatch: Calling spill() on RowBasedKeyValueBatch. Will not spill but return 0.\n",
      "23/12/22 21:50:11 WARN RowBasedKeyValueBatch: Calling spill() on RowBasedKeyValueBatch. Will not spill but return 0.\n",
      "23/12/22 21:50:11 WARN RowBasedKeyValueBatch: Calling spill() on RowBasedKeyValueBatch. Will not spill but return 0.\n",
      "23/12/22 21:50:11 WARN RowBasedKeyValueBatch: Calling spill() on RowBasedKeyValueBatch. Will not spill but return 0.\n",
      "23/12/22 21:50:11 WARN RowBasedKeyValueBatch: Calling spill() on RowBasedKeyValueBatch. Will not spill but return 0.\n",
      "23/12/22 21:50:11 WARN RowBasedKeyValueBatch: Calling spill() on RowBasedKeyValueBatch. Will not spill but return 0.\n",
      "23/12/22 21:50:11 WARN RowBasedKeyValueBatch: Calling spill() on RowBasedKeyValueBatch. Will not spill but return 0.\n",
      "[Stage 331:=================================================>       (7 + 1) / 8]\r"
     ]
    },
    {
     "name": "stdout",
     "output_type": "stream",
     "text": [
      "+---------------+-----------------+\n",
      "|player_gamertag|rounded_avg_kills|\n",
      "+---------------+-----------------+\n",
      "|   gimpinator14|            109.0|\n",
      "+---------------+-----------------+\n",
      "\n"
     ]
    },
    {
     "name": "stderr",
     "output_type": "stream",
     "text": [
      "                                                                                \r"
     ]
    }
   ],
   "source": [
    "\n",
    "roundedAvg = finalDF.groupBy(\"player_gamertag\") \\\n",
    "                    .agg(round(avg(col(\"player_total_kills\")), 2).alias(\"rounded_avg_kills\"))\n",
    "\n",
    "# Find the maximum rounded average value\n",
    "maxAvgValue = roundedAvg.agg({'rounded_avg_kills': 'max'}).collect()[0][0]\n",
    "\n",
    "# Filter the DataFrame to get all records with the maximum rounded average value\n",
    "recordsWithMaxAvg = roundedAvg.filter(col(\"rounded_avg_kills\") == maxAvgValue)\n",
    "\n",
    "# Show all records with the maximum rounded average value\n",
    "recordsWithMaxAvg.show()\n",
    "\n"
   ]
  },
  {
   "cell_type": "markdown",
   "id": "4d063c43-2581-4665-a9ed-12cf6e01c980",
   "metadata": {},
   "source": [
    "#### Query 4b \n",
    "which playlist has received the most plays?"
   ]
  },
  {
   "cell_type": "code",
   "execution_count": null,
   "id": "e65aa3a4-0bb6-42e3-97e8-965ddbca621a",
   "metadata": {},
   "outputs": [
    {
     "name": "stderr",
     "output_type": "stream",
     "text": [
      "23/12/22 21:50:17 WARN RowBasedKeyValueBatch: Calling spill() on RowBasedKeyValueBatch. Will not spill but return 0.\n",
      "23/12/22 21:50:17 WARN RowBasedKeyValueBatch: Calling spill() on RowBasedKeyValueBatch. Will not spill but return 0.\n",
      "23/12/22 21:50:17 WARN RowBasedKeyValueBatch: Calling spill() on RowBasedKeyValueBatch. Will not spill but return 0.\n"
     ]
    }
   ],
   "source": [
    "# Calculate the count of plays grouped by 'playlist_id'\n",
    "countPlays = finalDF.groupBy(\"playlist_id\") \\\n",
    "                     .agg(count(\"*\").alias(\"no_of_plays\"))\n",
    "\n",
    "# Find the maximum count of plays\n",
    "maxCountValue = countPlays.agg({'no_of_plays': 'max'}).collect()[0][0]\n",
    "\n",
    "# Filter the DataFrame to get all records with the maximum count of plays\n",
    "maxCountPlaylist = countPlays.filter(col(\"no_of_plays\") == maxCountValue)\n",
    "\n",
    "# Show all playlist_ids with the maximum count of plays\n",
    "maxCountPlaylist.show()\n"
   ]
  },
  {
   "cell_type": "markdown",
   "id": "5b114019-0158-407f-b200-09dbf496994a",
   "metadata": {},
   "source": [
    "#### Query 4c\n",
    "Which map was played the most?"
   ]
  },
  {
   "cell_type": "code",
   "execution_count": null,
   "id": "22ece2b6-5848-4890-8b5f-90f2cb774335",
   "metadata": {
    "scrolled": true
   },
   "outputs": [],
   "source": [
    "# Calculate the count of plays grouped by 'playlist_id'\n",
    "countPlaysMap = finalDF.groupBy(\"mapid\", \"map_name\") \\\n",
    "                     .agg(count(\"*\").alias(\"no_of_plays_map\"))\n",
    "\n",
    "# Find the maximum count of plays\n",
    "maxCountValueMap = countPlaysMap.agg({'no_of_plays_map': 'max'}).collect()[0][0]\n",
    "\n",
    "# Filter the DataFrame to get all records with the maximum count of plays\n",
    "maxCountMap = countPlaysMap.filter(col(\"no_of_plays_map\") == maxCountValueMap)\n",
    "\n",
    "# Show all playlist_ids with the maximum count of plays\n",
    "maxCountMap.show()"
   ]
  },
  {
   "cell_type": "markdown",
   "id": "24f44e9b-33c2-4e5a-95a5-1b587d32555b",
   "metadata": {},
   "source": [
    "#### Query 4d\n",
    "Which map do players receive the highest number of Killing Spree medals?"
   ]
  },
  {
   "cell_type": "code",
   "execution_count": null,
   "id": "b56de33e-af7e-499d-9096-e302e3ab0099",
   "metadata": {},
   "outputs": [],
   "source": [
    "# Assuming finalDF is your DataFrame\n",
    "# Calculate the sum of \"Killing Spree\" medals grouped by 'mapid' and 'map_name'\n",
    "result = finalDF.groupBy(\"mapid\", \"map_name\").agg(\n",
    "    sum(\n",
    "        when(\n",
    "            col(\"medal_name\") == \"Killing Spree\", col(\"count\")\n",
    "        ).otherwise(0)\n",
    "    ).alias(\"sumOfKillingSpree\")\n",
    ")\n",
    "\n",
    "# Find the maximum sum of \"Killing Spree\" medals\n",
    "maxSum = result.agg(max(col(\"sumOfKillingSpree\")).alias(\"maxSum\")).collect()[0][\"maxSum\"]\n",
    "\n",
    "# Filter the DataFrame to get all rows with the maximum sum, handling ties\n",
    "tiedRecordsForMax = result.filter(col(\"sumOfKillingSpree\") == maxSum)\n",
    "\n",
    "tiedRecordsForMax.show()"
   ]
  },
  {
   "cell_type": "code",
   "execution_count": null,
   "id": "f8dc2b2c-aa0e-4d4b-8284-04084452c4e8",
   "metadata": {},
   "outputs": [],
   "source": []
  },
  {
   "cell_type": "markdown",
   "id": "9f3ccc72-c640-4e1d-911a-2a1b6aa26417",
   "metadata": {},
   "source": [
    "#### Query 5\n",
    "Try at least 3 different versions of partitioned tables, and use .sortWithinPartitions to get the smallest footprint possible (hint: playlists and maps are both very low cardinality)"
   ]
  },
  {
   "cell_type": "code",
   "execution_count": null,
   "id": "cf9247c7-23c2-43e1-8556-a038b6c37aaa",
   "metadata": {},
   "outputs": [],
   "source": [
    "start_df = finalDF.repartition(4, col(\"completion_date\"))\n"
   ]
  },
  {
   "cell_type": "markdown",
   "id": "3e659c14-bd4c-48ba-83ab-7cbcbe8222c8",
   "metadata": {},
   "source": [
    "#### Query 5a"
   ]
  },
  {
   "cell_type": "code",
   "execution_count": null,
   "id": "f696332a-8515-4267-9759-985678dbb566",
   "metadata": {},
   "outputs": [],
   "source": [
    "first_sort_df = start_df.sortWithinPartitions(col(\"completion_date\"), col(\"mapid\"), col(\"playlist_id\"))\n"
   ]
  },
  {
   "cell_type": "markdown",
   "id": "0269f1e4-0ec1-4c77-87a8-572777f5694a",
   "metadata": {},
   "source": [
    "#### Query 5b"
   ]
  },
  {
   "cell_type": "code",
   "execution_count": null,
   "id": "c1cc33c8-bccc-472d-ad2e-9e4666eef332",
   "metadata": {},
   "outputs": [],
   "source": [
    "second_sort_df = start_df.sortWithinPartitions(col(\"completion_date\"), col(\"playlist_id\"), col(\"mapid\"))\n"
   ]
  },
  {
   "cell_type": "markdown",
   "id": "04468f20-a9aa-45c9-ae52-ec2634cacf46",
   "metadata": {},
   "source": [
    "#### Query 5c"
   ]
  },
  {
   "cell_type": "code",
   "execution_count": null,
   "id": "5485d927-ca1f-4a6f-bacc-d1866483fdbc",
   "metadata": {},
   "outputs": [],
   "source": [
    "third_sort_df = start_df.sortWithinPartitions(col(\"completion_date\"), col(\"medal_id\"), col(\"mapid\"))"
   ]
  },
  {
   "cell_type": "markdown",
   "id": "439fb407-e8f1-4029-88d6-a2c6b6cde24e",
   "metadata": {},
   "source": [
    "#### Compare Footprint"
   ]
  },
  {
   "cell_type": "code",
   "execution_count": 142,
   "id": "1393f42e-c4d1-49fc-b4c9-bd392f286d81",
   "metadata": {},
   "outputs": [
    {
     "data": {
      "text/html": [
       "<table>\n",
       "    <thead>\n",
       "        <tr>\n",
       "            <th>size</th>\n",
       "            <th>num_files</th>\n",
       "            <th>sorted1</th>\n",
       "        </tr>\n",
       "    </thead>\n",
       "    <tbody>\n",
       "        <tr>\n",
       "            <td>4736316</td>\n",
       "            <td>4</td>\n",
       "            <td>sorted1</td>\n",
       "        </tr>\n",
       "        <tr>\n",
       "            <td>4737511</td>\n",
       "            <td>4</td>\n",
       "            <td>sorted2</td>\n",
       "        </tr>\n",
       "        <tr>\n",
       "            <td>5355285</td>\n",
       "            <td>4</td>\n",
       "            <td>sorted3</td>\n",
       "        </tr>\n",
       "        <tr>\n",
       "            <td>5927163</td>\n",
       "            <td>4</td>\n",
       "            <td>unsorted</td>\n",
       "        </tr>\n",
       "    </tbody>\n",
       "</table>"
      ],
      "text/plain": [
       "+---------+-----------+----------+\n",
       "|    size | num_files |  sorted1 |\n",
       "+---------+-----------+----------+\n",
       "| 4736316 |         4 |  sorted1 |\n",
       "| 4737511 |         4 |  sorted2 |\n",
       "| 5355285 |         4 |  sorted3 |\n",
       "| 5927163 |         4 | unsorted |\n",
       "+---------+-----------+----------+"
      ]
     },
     "execution_count": 142,
     "metadata": {},
     "output_type": "execute_result"
    }
   ],
   "source": [
    "%%sql\n",
    "\n",
    "SELECT SUM(file_size_in_bytes) as size, COUNT(1) as num_files, 'sorted1' \n",
    "FROM demo.bootcamp.events_sorted.files\n",
    "\n",
    "UNION ALL\n",
    "SELECT SUM(file_size_in_bytes) as size, COUNT(1) as num_files, 'sorted2' \n",
    "FROM demo.bootcamp.events_sorted_second.files\n",
    "\n",
    "\n",
    "UNION ALL\n",
    "SELECT SUM(file_size_in_bytes) as size, COUNT(1) as num_files, 'sorted3' \n",
    "FROM demo.bootcamp.events_sorted_third.files\n",
    "\n",
    "UNION ALL\n",
    "SELECT SUM(file_size_in_bytes) as size, COUNT(1) as num_files, 'unsorted' \n",
    "FROM demo.bootcamp.events_unsorted.files\n"
   ]
  },
  {
   "cell_type": "markdown",
   "id": "e533e5a1-64fd-4a8f-a7bf-4eccb57a1302",
   "metadata": {},
   "source": [
    "#### Observation\n",
    "Setting the number of partitons as 4 and sorting withing the partition with completion_date, mapid, and playlist_id has the lowest footprint"
   ]
  },
  {
   "cell_type": "code",
   "execution_count": null,
   "id": "32fb4f1c-88c7-435b-bca9-9b1d071182c3",
   "metadata": {},
   "outputs": [],
   "source": []
  }
 ],
 "metadata": {
  "kernelspec": {
   "display_name": "Python 3 (ipykernel)",
   "language": "python",
   "name": "python3"
  },
  "language_info": {
   "codemirror_mode": {
    "name": "ipython",
    "version": 3
   },
   "file_extension": ".py",
   "mimetype": "text/x-python",
   "name": "python",
   "nbconvert_exporter": "python",
   "pygments_lexer": "ipython3",
   "version": "3.9.18"
  }
 },
 "nbformat": 4,
 "nbformat_minor": 5
}
