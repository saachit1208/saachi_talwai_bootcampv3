{
 "cells": [
  {
   "cell_type": "markdown",
   "id": "35117998-09df-4047-86da-63b985047649",
   "metadata": {},
   "source": [
    "#### Query 5a\n",
    "Try at least 3 different versions of partitioned tables, and use .sortWithinPartitions to get the smallest footprint possible (hint: playlists and maps are both very low cardinality)"
   ]
  },
  {
   "cell_type": "code",
   "execution_count": null,
   "id": "a42e39a0-ee24-48db-a189-0859a2b8b662",
   "metadata": {},
   "outputs": [],
   "source": [
    "first_sort_df =  finalDF.sortWithinPartitions(col(\"mapid\"))"
   ]
  }
 ],
 "metadata": {
  "kernelspec": {
   "display_name": "Python 3 (ipykernel)",
   "language": "python",
   "name": "python3"
  },
  "language_info": {
   "codemirror_mode": {
    "name": "ipython",
    "version": 3
   },
   "file_extension": ".py",
   "mimetype": "text/x-python",
   "name": "python",
   "nbconvert_exporter": "python",
   "pygments_lexer": "ipython3",
   "version": "3.9.18"
  }
 },
 "nbformat": 4,
 "nbformat_minor": 5
}
