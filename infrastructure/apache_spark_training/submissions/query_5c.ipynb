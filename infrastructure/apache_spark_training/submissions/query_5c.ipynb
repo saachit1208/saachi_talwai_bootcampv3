{
 "cells": [
  {
   "cell_type": "code",
   "execution_count": null,
   "id": "1aaf11af-7483-4a5c-82d2-df139aad64ff",
   "metadata": {},
   "outputs": [],
   "source": [
    "third_sort_df = finalDF.sortWithinPartitions(col(\"medal_id\"))\n",
    "combo_sort_df = finalDF.sortWithinPartitions(col(\"mapid\"), col(\"playlist_id\"))"
   ]
  },
  {
   "cell_type": "code",
   "execution_count": null,
   "id": "cad999ec-4ec7-42fb-b0cc-cb3a543afffe",
   "metadata": {},
   "outputs": [],
   "source": [
    "first_sort_df.write.mode(\"overwrite\").saveAsTable(\"bootcamp.matches_sorted_first\")\n",
    "second_sort_df.write.mode(\"overwrite\").saveAsTable(\"bootcamp.matches_sorted_second\")\n",
    "third_sort_df.write.mode(\"overwrite\").saveAsTable(\"bootcamp.matches_sorted_third\")\n",
    "combo_sort_df.write.mode(\"overwrite\").saveAsTable(\"bootcamp.matches_sorted_combo\")"
   ]
  },
  {
   "cell_type": "markdown",
   "id": "ae96c2c4-1634-4889-9391-87fa8d337cc8",
   "metadata": {},
   "source": [
    "#### Compare Footprint"
   ]
  },
  {
   "cell_type": "code",
   "execution_count": null,
   "id": "d24df447-33e9-4d30-a1e4-92eb8133bee9",
   "metadata": {},
   "outputs": [],
   "source": [
    "%%sql\n",
    "SELECT SUM(file_size_in_bytes) as size, COUNT(1) as num_files, 'sorted1' \n",
    "FROM demo.bootcamp.matches_sorted_first.files\n",
    "\n",
    "UNION ALL\n",
    "SELECT SUM(file_size_in_bytes) as size, COUNT(1) as num_files, 'sorted2' \n",
    "FROM demo.bootcamp.matches_sorted_second.files\n",
    "\n",
    "UNION ALL\n",
    "SELECT SUM(file_size_in_bytes) as size, COUNT(1) as num_files, 'sorted3' \n",
    "FROM demo.bootcamp.matches_sorted_third.files\n",
    "\n",
    "UNION ALL\n",
    "SELECT SUM(file_size_in_bytes) as size, COUNT(1) as num_files, 'combo_sort' \n",
    "FROM demo.bootcamp.matches_sorted_combo.files\n"
   ]
  },
  {
   "cell_type": "raw",
   "id": "07705fce-78bf-464d-8439-4f258e4596b8",
   "metadata": {},
   "source": [
    "Raw O/P (Couldn't copy table format)\n",
    "size\tnum_files\tsorted1\n",
    "7657541\t13\t         sorted1\n",
    "7808351\t13\t         sorted2\n",
    "9586710\t13\t         sorted3\n",
    "7478159\t13\t         combo_sort"
   ]
  }
 ],
 "metadata": {
  "kernelspec": {
   "display_name": "Python 3 (ipykernel)",
   "language": "python",
   "name": "python3"
  },
  "language_info": {
   "codemirror_mode": {
    "name": "ipython",
    "version": 3
   },
   "file_extension": ".py",
   "mimetype": "text/x-python",
   "name": "python",
   "nbconvert_exporter": "python",
   "pygments_lexer": "ipython3",
   "version": "3.9.18"
  }
 },
 "nbformat": 4,
 "nbformat_minor": 5
}
