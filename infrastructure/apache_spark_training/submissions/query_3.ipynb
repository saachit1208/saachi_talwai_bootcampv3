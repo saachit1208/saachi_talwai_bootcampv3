{
 "cells": [
  {
   "cell_type": "markdown",
   "id": "a2213dd5-d1af-4063-85ec-45ea2405a84f",
   "metadata": {},
   "source": [
    "#### Reading Data from CSV"
   ]
  },
  {
   "cell_type": "code",
   "execution_count": null,
   "id": "22b94e5f-3d7a-47dc-8320-a314e4f6ac29",
   "metadata": {},
   "outputs": [],
   "source": [
    "matchesBucketed = spark.read.option(\"header\", \"true\") \\\n",
    "                        .option(\"inferSchema\", \"true\") \\\n",
    "                        .csv(\"/home/iceberg/data/matches.csv\").withColumn(\"completion_year\", year(expr(\"DATE_TRUNC('year', completion_date)\")))\n",
    "matchDetailsBucketed =  spark.read.option(\"header\", \"true\") \\\n",
    "                        .option(\"inferSchema\", \"true\") \\\n",
    "                        .csv(\"/home/iceberg/data/match_details.csv\")\n",
    "\n",
    "medalsMatchesPlayersBucketed = spark.read.option(\"header\", \"true\") \\\n",
    "                        .option(\"inferSchema\", \"true\") \\\n",
    "                        .csv(\"/home/iceberg/data/medals_matches_players.csv\")\n",
    "maps = spark.read.option(\"header\", \"true\") \\\n",
    "                        .option(\"inferSchema\", \"true\") \\\n",
    "                        .csv(\"/home/iceberg/data/maps.csv\")\n",
    "medals = spark.read.option(\"header\", \"true\") \\\n",
    "                        .option(\"inferSchema\", \"true\") \\\n",
    "                        .csv(\"/home/iceberg/data/medals.csv\")"
   ]
  },
  {
   "cell_type": "markdown",
   "id": "c80c2773-1c00-4810-a87b-26160b42eae6",
   "metadata": {},
   "source": [
    "#### Creating bucketed Tables\n",
    "Partitioned by completion year instead of completion date for matches as that help me solve the Java OOM error."
   ]
  },
  {
   "cell_type": "code",
   "execution_count": null,
   "id": "4e366ce2-a3f6-44e9-8fe3-f9757ec6de51",
   "metadata": {},
   "outputs": [],
   "source": [
    "%%sql\n",
    "CREATE DATABASE IF NOT EXISTS bootcamp"
   ]
  },
  {
   "cell_type": "code",
   "execution_count": null,
   "id": "b504edf9-679f-4a52-b537-8269aa53b9b0",
   "metadata": {},
   "outputs": [],
   "source": [
    "bucketedDDL = \"\"\"\n",
    " CREATE TABLE IF NOT EXISTS bootcamp.matches_bucketed (\n",
    "    match_id STRING,\n",
    "     is_team_game BOOLEAN,\n",
    "     playlist_id STRING,\n",
    "     mapid STRING,\n",
    "     completion_date TIMESTAMP,\n",
    "     completion_year INTEGER\n",
    " )\n",
    " USING iceberg\n",
    " PARTITIONED BY (completion_year, bucket(16, match_id));\n",
    " \"\"\"\n",
    "spark.sql(bucketedDDL)\n",
    "\n",
    "bucketedDetailsDDL = \"\"\"\n",
    " CREATE TABLE IF NOT EXISTS bootcamp.match_details_bucketed (\n",
    "     match_id STRING,\n",
    "     player_gamertag STRING,\n",
    "     player_total_kills INTEGER,\n",
    "     player_total_deaths INTEGER\n",
    " )\n",
    " USING iceberg\n",
    " PARTITIONED BY (bucket(16, match_id));\n",
    " \"\"\"\n",
    "spark.sql(bucketedDetailsDDL)\n",
    "\n",
    "bucketedMedalMatchesDDL = \"\"\"\n",
    " CREATE TABLE IF NOT EXISTS bootcamp.medals_matches_players_bucketed (\n",
    "     match_id STRING,\n",
    "     player_gamertag STRING,\n",
    "     medal_id BIGINT,\n",
    "     count INTEGER\n",
    " )\n",
    " USING iceberg\n",
    " PARTITIONED BY (bucket(16, match_id));\n",
    " \"\"\"\n",
    "spark.sql(bucketedMedalMatchesDDL)"
   ]
  },
  {
   "cell_type": "code",
   "execution_count": null,
   "id": "e548f3bd-8c6c-41df-ab9d-d72c44c8ac38",
   "metadata": {},
   "outputs": [],
   "source": [
    "matchesBucketed.select(\n",
    "     col(\"match_id\"), col(\"is_team_game\"), col(\"playlist_id\"), col(\"mapid\"), col(\"completion_date\").cast(\"timestamp\"), col(\"completion_year\")\n",
    "     ) \\\n",
    "     .write.mode(\"overwrite\")  \\\n",
    "     .partitionBy(\"completion_year\") \\\n",
    "     .bucketBy(16, \"match_id\").saveAsTable(\"bootcamp.matches_bucketed\")\n",
    "\n",
    "matchDetailsBucketed.select(\n",
    "     col(\"match_id\"), col(\"player_gamertag\"), col(\"player_total_kills\"), col(\"player_total_deaths\")\n",
    "     ) \\\n",
    "     .write.mode(\"overwrite\")  \\\n",
    "     .bucketBy(16, \"match_id\").saveAsTable(\"bootcamp.match_details_bucketed\")\n",
    "medalsMatchesPlayersBucketed.select(\n",
    "     col(\"match_id\"), col(\"player_gamertag\"), col(\"medal_id\"), col(\"count\")\n",
    "     ) \\\n",
    "     .write.mode(\"overwrite\")  \\\n",
    "     .bucketBy(16, \"match_id\").saveAsTable(\"bootcamp.medals_matches_players_bucketed\")\n"
   ]
  },
  {
   "cell_type": "code",
   "execution_count": null,
   "id": "7d29726c-e92f-4d5b-a9a2-ef646627083a",
   "metadata": {},
   "outputs": [],
   "source": [
    "spark.sql(\"USE bootcamp\")"
   ]
  },
  {
   "cell_type": "code",
   "execution_count": null,
   "id": "5cad6e2d-958a-4849-8110-01ca4ee0e742",
   "metadata": {},
   "outputs": [],
   "source": [
    "matchesBucketedDF = spark.read.table(\"matches_bucketed\")\n",
    "matchDetailsBucketedDF = spark.read.table(\"match_details_bucketed\")\n",
    "medalsMatchesPlayersBucketedDF = spark.read.table(\"medals_matches_players_bucketed\")"
   ]
  },
  {
   "cell_type": "markdown",
   "id": "ee42134a-27f7-4742-86ce-acd4df875f55",
   "metadata": {},
   "source": [
    "#### Query 2: join the medals and maps tables with an explicitly specified a broadcast join \n",
    "#### Query 3: join the match_details, matches and medal_matches_players using a bucket join on match_id with 16 buckets"
   ]
  },
  {
   "cell_type": "code",
   "execution_count": null,
   "id": "e980d2d2-d1da-4382-83ef-b598b747b655",
   "metadata": {},
   "outputs": [],
   "source": [
    "bucketedJoinResults = matchDetailsBucketedDF.alias(\"mdb\") \\\n",
    "    .join(matchesBucketedDF.alias(\"mb\"), col(\"mb.match_id\") == col(\"mdb.match_id\")) \\\n",
    "    .join(medalsMatchesPlayersBucketedDF.alias(\"mmb\"), \n",
    "          (col(\"mb.match_id\") == col(\"mmb.match_id\")) & \n",
    "          (col(\"mmb.player_gamertag\") == col(\"mdb.player_gamertag\"))) \\\n",
    "    .select(\n",
    "        col(\"mb.*\"),\n",
    "        col(\"mdb.player_total_deaths\"),\n",
    "        col(\"mdb.player_total_kills\"),\n",
    "        col(\"mdb.player_gamertag\"),\n",
    "        col(\"mmb.count\"),\n",
    "        col(\"mmb.medal_id\")\n",
    "    )\n"
   ]
  },
  {
   "cell_type": "markdown",
   "id": "a2534e4e-5849-4065-a082-261d4f34fa25",
   "metadata": {},
   "source": [
    "#### Explicit Broadcast Join"
   ]
  },
  {
   "cell_type": "code",
   "execution_count": null,
   "id": "0ee92352-3a6d-4a53-84ae-aba34bdc0d0a",
   "metadata": {},
   "outputs": [],
   "source": [
    "explicitBroadcast = bucketedJoinResults.alias(\"bk\") \\\n",
    "    .join(broadcast(medals).alias(\"md\"), col(\"bk.medal_id\") == col(\"md.medal_id\")) \\\n",
    "    .join(broadcast(maps).alias(\"mp\"), col(\"bk.mapid\") == col(\"mp.mapid\")) \\\n",
    "    .select(\n",
    "        col(\"bk.*\"),\n",
    "        col(\"md.name\").alias(\"medal_name\"),\n",
    "        col(\"md.description\").alias(\"medal_description\"),\n",
    "        col(\"mp.name\").alias(\"map_name\"),\n",
    "        col(\"mp.description\").alias(\"map_description\")\n",
    "    )\n"
   ]
  },
  {
   "cell_type": "code",
   "execution_count": null,
   "id": "967e984a-0280-473f-8a07-11b806fafb61",
   "metadata": {},
   "outputs": [],
   "source": [
    "finalDF = explicitBroadcast.drop_duplicates()"
   ]
  }
 ],
 "metadata": {
  "kernelspec": {
   "display_name": "Python 3 (ipykernel)",
   "language": "python",
   "name": "python3"
  },
  "language_info": {
   "codemirror_mode": {
    "name": "ipython",
    "version": 3
   },
   "file_extension": ".py",
   "mimetype": "text/x-python",
   "name": "python",
   "nbconvert_exporter": "python",
   "pygments_lexer": "ipython3",
   "version": "3.9.18"
  }
 },
 "nbformat": 4,
 "nbformat_minor": 5
}
