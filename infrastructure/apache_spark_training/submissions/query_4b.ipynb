{
 "cells": [
  {
   "cell_type": "markdown",
   "id": "75edc989-00a8-4674-bf56-1c20e37f6068",
   "metadata": {},
   "source": [
    "#### Query 4b\n",
    "which playlist has received the most plays?"
   ]
  },
  {
   "cell_type": "code",
   "execution_count": null,
   "id": "3e719a25-cb05-45b2-82ee-70daf48a15ac",
   "metadata": {},
   "outputs": [],
   "source": [
    "# Calculate the count of plays grouped by 'playlist_id'\n",
    "countPlays = finalDF.groupBy(\"playlist_id\") \\\n",
    "                     .agg(count(\"*\").alias(\"no_of_plays\"))\n",
    "\n",
    "# Find the maximum count of plays\n",
    "maxCountValue = countPlays.agg({'no_of_plays': 'max'}).collect()[0][0]\n",
    "\n",
    "# Filter the DataFrame to get all records with the maximum count of plays\n",
    "maxCountPlaylist = countPlays.filter(col(\"no_of_plays\") == maxCountValue)\n",
    "\n",
    "# Show all playlist_ids with the maximum count of plays\n",
    "maxCountPlaylist.show(truncate=False)"
   ]
  },
  {
   "cell_type": "raw",
   "id": "8d674316-3ede-424a-bf28-0590f5d2007e",
   "metadata": {},
   "source": [
    "O/P\n",
    "+------------------------------------+-----------+\n",
    "|playlist_id                         |no_of_plays|\n",
    "+------------------------------------+-----------+\n",
    "|f72e0ef0-7c4a-4307-af78-8e38dac3fdba|202489     |\n",
    "+------------------------------------+-----------"
   ]
  }
 ],
 "metadata": {
  "kernelspec": {
   "display_name": "Python 3 (ipykernel)",
   "language": "python",
   "name": "python3"
  },
  "language_info": {
   "codemirror_mode": {
    "name": "ipython",
    "version": 3
   },
   "file_extension": ".py",
   "mimetype": "text/x-python",
   "name": "python",
   "nbconvert_exporter": "python",
   "pygments_lexer": "ipython3",
   "version": "3.9.18"
  }
 },
 "nbformat": 4,
 "nbformat_minor": 5
}
