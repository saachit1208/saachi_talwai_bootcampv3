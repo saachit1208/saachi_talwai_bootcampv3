from pyspark.sql.functions import year, expr, broadcast, split, lit, col, split, avg, sum, count, when, round, max
spark = SparkSession.builder.appName("Jupyter").getOrCreate()
spark

