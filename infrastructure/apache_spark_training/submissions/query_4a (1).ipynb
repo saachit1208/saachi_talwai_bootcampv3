{
 "cells": [
  {
   "cell_type": "markdown",
   "id": "44e74516-66ba-406d-9b85-c54289ded6a5",
   "metadata": {},
   "source": [
    "#### Query 4a \n",
    "which player has the highest average kills per game? "
   ]
  },
  {
   "cell_type": "code",
   "execution_count": null,
   "id": "f175b03f-3f34-4cae-bbe2-d192e5bbe451",
   "metadata": {},
   "outputs": [],
   "source": [
    "# Assuming finalDF created previously\n",
    "roundedAvg = finalDF.groupBy(\"player_gamertag\") \\\n",
    "                    .agg(round(avg(col(\"player_total_kills\")), 2).alias(\"rounded_avg_kills\"))\n",
    "\n",
    "# Find the maximum rounded average value\n",
    "maxAvgValue = roundedAvg.agg({'rounded_avg_kills': 'max'}).collect()[0][0]\n",
    "\n",
    "# Filter the DataFrame to get all records with the maximum rounded average value\n",
    "recordsWithMaxAvg = roundedAvg.filter(col(\"rounded_avg_kills\") == maxAvgValue)\n",
    "\n",
    "# Show all records with the maximum rounded average value kills\n",
    "recordsWithMaxAvg.show(truncate=False)"
   ]
  },
  {
   "cell_type": "raw",
   "id": "92e97617-adc5-4a7f-9f41-18747bb89a30",
   "metadata": {},
   "source": [
    "Output:\n",
    "|player_gamertag|rounded_avg_kills|\n",
    "+---------------+-----------------+\n",
    "|   gimpinator14|            109.0|\n",
    "+---------------+-----------------+"
   ]
  }
 ],
 "metadata": {
  "kernelspec": {
   "display_name": "Python 3 (ipykernel)",
   "language": "python",
   "name": "python3"
  },
  "language_info": {
   "codemirror_mode": {
    "name": "ipython",
    "version": 3
   },
   "file_extension": ".py",
   "mimetype": "text/x-python",
   "name": "python",
   "nbconvert_exporter": "python",
   "pygments_lexer": "ipython3",
   "version": "3.9.18"
  }
 },
 "nbformat": 4,
 "nbformat_minor": 5
}
